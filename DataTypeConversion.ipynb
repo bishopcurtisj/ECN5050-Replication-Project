{
 "cells": [
  {
   "cell_type": "code",
   "execution_count": 1,
   "id": "440d0011",
   "metadata": {},
   "outputs": [],
   "source": [
    "import pandas as pd\n"
   ]
  },
  {
   "cell_type": "code",
   "execution_count": 6,
   "id": "7370045b",
   "metadata": {},
   "outputs": [],
   "source": [
    "data1 = pd.io.stata.read_stata(r'C:\\Users\\bisho\\OneDrive\\Documents\\ECN5050\\ReplicationProject\\MAP_QJE_ReplicationMaterials\\data\\experiment1_data.dta')\n",
    "data2 = pd.io.stata.read_stata(r'C:\\Users\\bisho\\OneDrive\\Documents\\ECN5050\\ReplicationProject\\MAP_QJE_ReplicationMaterials\\data\\experiment2_data.dta')\n",
    "data1.to_csv('exeriment1_data.csv')\n",
    "data2.to_csv('exeriment2_data.csv')"
   ]
  },
  {
   "cell_type": "code",
   "execution_count": null,
   "id": "9216b2e3",
   "metadata": {},
   "outputs": [],
   "source": []
  }
 ],
 "metadata": {
  "kernelspec": {
   "display_name": "Python 3 (ipykernel)",
   "language": "python",
   "name": "python3"
  },
  "language_info": {
   "codemirror_mode": {
    "name": "ipython",
    "version": 3
   },
   "file_extension": ".py",
   "mimetype": "text/x-python",
   "name": "python",
   "nbconvert_exporter": "python",
   "pygments_lexer": "ipython3",
   "version": "3.9.13"
  }
 },
 "nbformat": 4,
 "nbformat_minor": 5
}
